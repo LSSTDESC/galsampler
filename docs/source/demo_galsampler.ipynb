{
 "cells": [
  {
   "cell_type": "markdown",
   "id": "4965dfc0",
   "metadata": {},
   "source": [
    "# GalSampler Demo\n",
    "\n",
    "This notebook gives a simple demo of the two core functions in galsampler: `crossmatch` and `galsample`. We'll start out by using `crossmatch` to create a toy mock catalog of galaxies, and then we'll use `galsample` to galsample the toy mock into a different halo catalog."
   ]
  },
  {
   "cell_type": "markdown",
   "id": "ea472974",
   "metadata": {},
   "source": [
    "## Using the `crossmatch` function\n",
    "\n",
    "We'll start out by creating a dummy catalog of dark matter halos, and then use `crossmatch` to populate these halos with mock galaxies. Later in this demo, we'll use this same mock galaxy catalog to demonstrate galsampling."
   ]
  },
  {
   "cell_type": "code",
   "execution_count": 1,
   "id": "fdc56e7b",
   "metadata": {},
   "outputs": [],
   "source": [
    "import numpy as np\n",
    "\n",
    "n_source_halos = 1000\n",
    "source_halo_ids = np.arange(n_source_halos).astype(int)\n",
    "source_halo_lgmass = np.random.uniform(10, 15, n_source_halos)\n",
    "source_halo_spin = 10**np.random.uniform(-2, 0, n_source_halos)\n",
    "source_halo_ellipticity = np.random.uniform(0, 1, n_source_halos)"
   ]
  },
  {
   "cell_type": "markdown",
   "id": "421e417b",
   "metadata": {},
   "source": [
    "The halos in our dummy catalog have three physical properties: mass, spin, and ellipticity. We'll now create a mock catalog of $50,000$ galaxies that populate these halos, simply by randomly selecting halo IDs that our galaxies will populate."
   ]
  },
  {
   "cell_type": "code",
   "execution_count": 2,
   "id": "b7981409",
   "metadata": {},
   "outputs": [],
   "source": [
    "n_source_gals = 50_000\n",
    "source_gals_host_halo_id = np.random.choice(\n",
    "    source_halo_ids, size=n_source_gals)"
   ]
  },
  {
   "cell_type": "markdown",
   "id": "70a3bc69",
   "metadata": {},
   "source": [
    "Using the host halo ID for each of our mock galaxies. We'll now use the `crossmatch` function to transfer the host halo mass to each of the galaxies. The `crossmatch` function returns two indexing arrays that provide the correspondence between two catalogs sharing a common ID:"
   ]
  },
  {
   "cell_type": "code",
   "execution_count": 3,
   "id": "c361c667",
   "metadata": {},
   "outputs": [],
   "source": [
    "from galsampler import crossmatch\n",
    "\n",
    "idxA, idxB = crossmatch(\n",
    "    source_gals_host_halo_id, source_halo_ids)\n",
    "\n",
    "source_gals_halo_lgmass = np.zeros(n_source_gals)\n",
    "source_gals_halo_lgmass[idxA] = source_halo_lgmass[idxB]"
   ]
  },
  {
   "cell_type": "markdown",
   "id": "2a26489d",
   "metadata": {},
   "source": [
    "Note that since `crossmatch` just returns indexing arrays, at this point we could similarly broadcast the host halo spin and ellipticity to each of the source galaxies. But for our present purposes, let's just stick with halo mass.\n",
    "\n",
    "Finally, let's make our mock a little more interesting and map stellar mass onto each mock galaxy. To do this, we'll just use a lognormal distribution determined by the host halo mass. This is unrealistic because it does not distinguish between centrals and satellites, but this is just a toy model that we're setting up for demonstration purposes."
   ]
  },
  {
   "cell_type": "code",
   "execution_count": 4,
   "id": "501561ab",
   "metadata": {},
   "outputs": [
    {
     "data": {
      "image/png": "[encoded data removed]",
      "text/plain": [
       "<Figure size 432x288 with 1 Axes>"
      ]
     },
     "metadata": {},
     "output_type": "display_data"
    }
   ],
   "source": [
    "from matplotlib import pyplot as plt\n",
    "\n",
    "def median_logsm_from_lgmass(lgmass):\n",
    "    return 10 + 0.5*(lgmass-12)\n",
    "\n",
    "med_logsm = median_logsm_from_lgmass(source_gals_halo_lgmass)\n",
    "source_gals_logsm = np.random.normal(loc=med_logsm, scale=0.2)\n",
    "\n",
    "fig, ax = plt.subplots(1, 1)\n",
    "ylim = ax.set_ylim(0, 3)\n",
    "msk1 = np.abs(source_gals_halo_lgmass-11) < 0.2\n",
    "__=ax.hist(source_gals_logsm[msk1], bins=50, density=True, \n",
    "           alpha=0.8, label=r'$\\log M_{\\rm halo}=11$')\n",
    "msk2 = np.abs(source_gals_halo_lgmass-14) < 0.2\n",
    "__=ax.hist(source_gals_logsm[msk2], bins=50, density=True, \n",
    "           alpha=0.8, label=r'$\\log M_{\\rm halo}=14$')\n",
    "leg = ax.legend()\n",
    "xlabel = ax.set_xlabel(r'$\\log M_{\\star}$')"
   ]
  },
  {
   "cell_type": "markdown",
   "id": "3031fb61",
   "metadata": {},
   "source": [
    "## Using the `galsample` function to transfer galaxies from one halo catalog to another\n",
    "\n",
    "First let's set up another dummy catalog of dark matter halos:"
   ]
  },
  {
   "cell_type": "code",
   "execution_count": 5,
   "id": "154321be",
   "metadata": {},
   "outputs": [],
   "source": [
    "n_target_halos = 5000\n",
    "target_halo_ids = np.arange(n_target_halos).astype(int)\n",
    "target_halo_lgmass = np.random.uniform(10, 15, n_target_halos)\n",
    "target_halo_spin = 10**np.random.uniform(-2, 0, n_target_halos)\n",
    "target_halo_zhalf = np.random.uniform(0.1, 5, n_target_halos)"
   ]
  },
  {
   "cell_type": "markdown",
   "id": "8f0a58ff",
   "metadata": {},
   "source": [
    "Halos in our target halo catalog have three physical properties: mass, spin, and the redshift at which they formed half of their present-day mass.\n",
    "\n",
    "Now we'll use the mass and spin to provide a correspondence between halos in the two catalogs, so that for each halo in the target halo catalog, we have a closely-matching counterpart in the source halo catalog. Once that correspondence is set up, we populate each target halo by transferring the galaxy content of its counterpart source halo. The `galsample` function provides the indexing array for this operation:"
   ]
  },
  {
   "cell_type": "code",
   "execution_count": 6,
   "id": "68b52856",
   "metadata": {},
   "outputs": [],
   "source": [
    "from galsampler import galsample\n",
    "\n",
    "source_halo_props = (source_halo_lgmass, source_halo_spin)\n",
    "target_halo_props = (target_halo_lgmass, target_halo_spin)\n",
    "\n",
    "gs_results = galsample(\n",
    "    source_gals_host_halo_id,\n",
    "    source_halo_ids, target_halo_ids,\n",
    "    source_halo_props, target_halo_props)\n",
    "\n",
    "n_target_gals = len(gs_results.target_gals_selection_indx)"
   ]
  },
  {
   "cell_type": "markdown",
   "id": "ac2e19d3",
   "metadata": {},
   "source": [
    "The `galsample` function returns three arrays of integers, each with the same length $N_{\\rm gals, target}$:\n",
    "\n",
    "- `target_gals_selection_indx` is an indexing array into the source galaxy catalog. Each entry in this array provides the index of a source galaxy that has been selected for membership in the target galaxy catalog.\n",
    "\n",
    "- `target_gals_target_halo_ids` stores the halo ID of the target halo that hosts each galaxy\n",
    "\n",
    "- `target_gals_source_halo_ids` stores the halo ID of the source halo that each galaxy came from"
   ]
  },
  {
   "cell_type": "markdown",
   "id": "4b2ca843",
   "metadata": {},
   "source": [
    "First let's use the `target_gals_selection_indx` to get the stellar mass and host halo mass of our target galaxies:"
   ]
  },
  {
   "cell_type": "code",
   "execution_count": 7,
   "id": "c4df632f",
   "metadata": {},
   "outputs": [],
   "source": [
    "target_gals_source_halo_lgmass = source_gals_halo_lgmass[gs_results.target_gals_selection_indx]\n",
    "target_gals_logsm = source_gals_logsm[gs_results.target_gals_selection_indx]"
   ]
  },
  {
   "cell_type": "markdown",
   "id": "0db9f7c7",
   "metadata": {},
   "source": [
    "Now let's verify that the distribution of stellar masses as a function of host halo mass has been preserved by our galsampling:"
   ]
  },
  {
   "cell_type": "code",
   "execution_count": 8,
   "id": "fb260b2e",
   "metadata": {},
   "outputs": [
    {
     "data": {
      "image/png": "[encoded data removed]",
      "text/plain": [
       "<Figure size 432x288 with 1 Axes>"
      ]
     },
     "metadata": {},
     "output_type": "display_data"
    }
   ],
   "source": [
    "fig, ax = plt.subplots(1, 1)\n",
    "ylim = ax.set_ylim(0, 3)\n",
    "lgm = 12\n",
    "msk1 = np.abs(source_gals_halo_lgmass-lgm) < 0.2\n",
    "__=ax.hist(source_gals_logsm[msk1], \n",
    "           bins=50, density=True, alpha=0.8, \n",
    "           label=r'$\\log M^{\\rm source}_{\\rm halo}=12$')\n",
    "\n",
    "msk1b = np.abs(target_gals_source_halo_lgmass-lgm) < 0.2\n",
    "__=ax.hist(target_gals_logsm[msk1b], \n",
    "           bins=50, density=True, alpha=0.8, \n",
    "           label=r'$\\log M^{\\rm target}_{\\rm halo}=12$')\n",
    "leg = ax.legend()\n",
    "xlabel = ax.set_xlabel(r'$\\log M_{\\star}$')"
   ]
  },
  {
   "cell_type": "markdown",
   "id": "50afc131",
   "metadata": {},
   "source": [
    "### Inheriting additional halo properties with `crossmatch`\n",
    "\n",
    "So far we have seen how to use `target_gals_selection_indx` to paint stellar mass and host halo mass onto our target galaxies. But what if we want our target galaxies to inherit additional properties from their source/target halos? For the case of the halo mass of the source halos, this was made easy by the fact that our original source galaxy catalog already had the halo masses broadcast to the galaxies. But our source galaxy catalog did not have such broadcasting for the case of halo spin or ellipticity. And our target halos have an additional formation-redshift property that we may also want to bestow upon our target galaxies. In order to inherit these properties, we'll make use of the other two arguments returned by the `galsample` function, together with one final use of `crossmatch`."
   ]
  },
  {
   "cell_type": "code",
   "execution_count": 9,
   "id": "540b5d7e",
   "metadata": {},
   "outputs": [],
   "source": [
    "idxA, idxB = crossmatch(\n",
    "    gs_results.target_gals_target_halo_ids, target_halo_ids)\n",
    "\n",
    "target_gals_target_halo_zhalf = np.zeros(n_target_gals)\n",
    "target_gals_target_halo_zhalf[idxA] = target_halo_zhalf[idxB]"
   ]
  },
  {
   "cell_type": "code",
   "execution_count": 10,
   "id": "7f090400",
   "metadata": {},
   "outputs": [],
   "source": [
    "idxA, idxB = crossmatch(\n",
    "    gs_results.target_gals_source_halo_ids, source_halo_ids)\n",
    "\n",
    "target_gals_source_halo_spin = np.zeros(n_target_gals)\n",
    "target_gals_source_halo_spin[idxA] = source_halo_spin[idxB]"
   ]
  }
 ],
 "metadata": {
  "kernelspec": {
   "display_name": "Python 3 (ipykernel)",
   "language": "python",
   "name": "python3"
  },
  "language_info": {
   "codemirror_mode": {
    "name": "ipython",
    "version": 3
   },
   "file_extension": ".py",
   "mimetype": "text/x-python",
   "name": "python",
   "nbconvert_exporter": "python",
   "pygments_lexer": "ipython3",
   "version": "3.9.13"
  }
 },
 "nbformat": 4,
 "nbformat_minor": 5
}
